{
 "cells": [
  {
   "cell_type": "code",
   "execution_count": 12,
   "id": "a11af16e",
   "metadata": {},
   "outputs": [],
   "source": [
    "import pandas as pd\n",
    "from sklearn.feature_extraction.text import TfidfVectorizer\n",
    "from sklearn.preprocessing import LabelEncoder\n",
    "from sklearn.model_selection import train_test_split\n",
    "from sklearn.ensemble import RandomForestClassifier\n",
    "from sklearn.naive_bayes import MultinomialNB\n",
    "from sklearn.svm import LinearSVC\n",
    "from xgboost import XGBClassifier\n",
    "from sklearn.metrics import accuracy_score, classification_report\n",
    "\n"
   ]
  },
  {
   "cell_type": "code",
   "execution_count": 13,
   "id": "495d333a",
   "metadata": {},
   "outputs": [
    {
     "name": "stdout",
     "output_type": "stream",
     "text": [
      "<class 'pandas.core.frame.DataFrame'>\n",
      "RangeIndex: 32000 entries, 0 to 31999\n",
      "Data columns (total 2 columns):\n",
      " #   Column   Non-Null Count  Dtype \n",
      "---  ------   --------------  ----- \n",
      " 0   Type     32000 non-null  object\n",
      " 1   Keyword  32000 non-null  object\n",
      "dtypes: object(2)\n",
      "memory usage: 500.1+ KB\n"
     ]
    }
   ],
   "source": [
    "# Step 1: Load Dataset\n",
    "mbti_df = pd.read_csv(\"D:/MBTI minor project/TEST_TEST/filename_aug_dataset.csv\")\n",
    "mbti_df.head()\n",
    "mbti_df.Keyword[0]\n",
    "mbti_df.info()"
   ]
  },
  {
   "cell_type": "code",
   "execution_count": 14,
   "id": "b66ca303",
   "metadata": {},
   "outputs": [],
   "source": [
    "# Step 2: Encode labels (MBTI types)\n",
    "label_encoder = LabelEncoder()\n",
    "y = label_encoder.fit_transform(df[\"Type\"])\n",
    "\n"
   ]
  },
  {
   "cell_type": "code",
   "execution_count": 15,
   "id": "b11eb680",
   "metadata": {},
   "outputs": [],
   "source": [
    "# Step 3: Vectorize Keywords using TF-IDF with n-grams\n",
    "vectorizer = TfidfVectorizer(ngram_range=(1, 2))  # unigrams + bigrams\n",
    "X = vectorizer.fit_transform(df[\"Keyword\"])\n",
    "\n"
   ]
  },
  {
   "cell_type": "code",
   "execution_count": 16,
   "id": "89e45b67",
   "metadata": {},
   "outputs": [],
   "source": [
    "# Step 4: Train-Test Split\n",
    "X_train, X_test, y_train, y_test = train_test_split(\n",
    "    X, y, test_size=0.2, random_state=42, stratify=y\n",
    ")\n",
    "\n"
   ]
  },
  {
   "cell_type": "code",
   "execution_count": 17,
   "id": "e8452c8f",
   "metadata": {},
   "outputs": [],
   "source": [
    "# Step 5: Define models\n",
    "models = {\n",
    "    \"RandomForest\": RandomForestClassifier(),\n",
    "    \"NaiveBayes\": MultinomialNB(),\n",
    "    \"SVM\": LinearSVC(),\n",
    "    \"XGBoost\": XGBClassifier(use_label_encoder=False, eval_metric=\"mlogloss\")\n",
    "}\n",
    "\n"
   ]
  },
  {
   "cell_type": "code",
   "execution_count": 18,
   "id": "903cd8a9",
   "metadata": {},
   "outputs": [
    {
     "name": "stdout",
     "output_type": "stream",
     "text": [
      "\n",
      "Training: RandomForest\n",
      "RandomForest Accuracy: 0.6150\n",
      "RandomForest Classification Report:\n",
      "              precision    recall  f1-score   support\n",
      "\n",
      "        ENFJ       0.68      0.66      0.67       400\n",
      "        ENFP       0.75      0.49      0.59       400\n",
      "        ENTJ       0.64      0.61      0.62       400\n",
      "        ENTP       0.69      0.69      0.69       400\n",
      "        ESFJ       0.51      0.65      0.57       400\n",
      "        ESFP       0.56      0.69      0.62       400\n",
      "        ESTJ       0.59      0.52      0.55       400\n",
      "        ESTP       0.64      0.68      0.66       400\n",
      "        INFJ       0.83      0.64      0.72       400\n",
      "        INFP       0.77      0.59      0.67       400\n",
      "        INTJ       0.53      0.57      0.55       400\n",
      "        INTP       0.60      0.67      0.63       400\n",
      "        ISFJ       0.64      0.59      0.61       400\n",
      "        ISFP       0.57      0.60      0.59       400\n",
      "        ISTJ       0.51      0.66      0.57       400\n",
      "        ISTP       0.57      0.53      0.55       400\n",
      "\n",
      "    accuracy                           0.61      6400\n",
      "   macro avg       0.63      0.61      0.62      6400\n",
      "weighted avg       0.63      0.61      0.62      6400\n",
      "\n",
      "\n",
      "Training: NaiveBayes\n",
      "NaiveBayes Accuracy: 0.6088\n",
      "NaiveBayes Classification Report:\n",
      "              precision    recall  f1-score   support\n",
      "\n",
      "        ENFJ       0.58      0.63      0.60       400\n",
      "        ENFP       0.74      0.48      0.59       400\n",
      "        ENTJ       0.60      0.60      0.60       400\n",
      "        ENTP       0.74      0.69      0.71       400\n",
      "        ESFJ       0.63      0.57      0.60       400\n",
      "        ESFP       0.56      0.67      0.61       400\n",
      "        ESTJ       0.52      0.54      0.53       400\n",
      "        ESTP       0.64      0.66      0.65       400\n",
      "        INFJ       0.82      0.65      0.72       400\n",
      "        INFP       0.71      0.61      0.66       400\n",
      "        INTJ       0.54      0.55      0.54       400\n",
      "        INTP       0.54      0.70      0.61       400\n",
      "        ISFJ       0.56      0.61      0.59       400\n",
      "        ISFP       0.58      0.59      0.59       400\n",
      "        ISTJ       0.57      0.66      0.61       400\n",
      "        ISTP       0.57      0.55      0.56       400\n",
      "\n",
      "    accuracy                           0.61      6400\n",
      "   macro avg       0.62      0.61      0.61      6400\n",
      "weighted avg       0.62      0.61      0.61      6400\n",
      "\n",
      "\n",
      "Training: SVM\n",
      "SVM Accuracy: 0.6159\n",
      "SVM Classification Report:\n",
      "              precision    recall  f1-score   support\n",
      "\n",
      "        ENFJ       0.72      0.59      0.65       400\n",
      "        ENFP       0.74      0.52      0.61       400\n",
      "        ENTJ       0.63      0.61      0.62       400\n",
      "        ENTP       0.72      0.69      0.71       400\n",
      "        ESFJ       0.51      0.62      0.56       400\n",
      "        ESFP       0.55      0.70      0.62       400\n",
      "        ESTJ       0.58      0.53      0.55       400\n",
      "        ESTP       0.65      0.67      0.66       400\n",
      "        INFJ       0.79      0.66      0.72       400\n",
      "        INFP       0.75      0.61      0.67       400\n",
      "        INTJ       0.52      0.58      0.55       400\n",
      "        INTP       0.61      0.66      0.63       400\n",
      "        ISFJ       0.63      0.59      0.61       400\n",
      "        ISFP       0.57      0.61      0.59       400\n",
      "        ISTJ       0.51      0.67      0.58       400\n",
      "        ISTP       0.57      0.54      0.55       400\n",
      "\n",
      "    accuracy                           0.62      6400\n",
      "   macro avg       0.63      0.62      0.62      6400\n",
      "weighted avg       0.63      0.62      0.62      6400\n",
      "\n",
      "\n",
      "Training: XGBoost\n"
     ]
    },
    {
     "name": "stderr",
     "output_type": "stream",
     "text": [
      "c:\\Users\\joshu\\AppData\\Local\\Programs\\Python\\Python313\\Lib\\site-packages\\xgboost\\training.py:183: UserWarning: [00:13:23] WARNING: C:\\actions-runner\\_work\\xgboost\\xgboost\\src\\learner.cc:738: \n",
      "Parameters: { \"use_label_encoder\" } are not used.\n",
      "\n",
      "  bst.update(dtrain, iteration=i, fobj=obj)\n"
     ]
    },
    {
     "name": "stdout",
     "output_type": "stream",
     "text": [
      "XGBoost Accuracy: 0.6150\n",
      "XGBoost Classification Report:\n",
      "              precision    recall  f1-score   support\n",
      "\n",
      "        ENFJ       0.70      0.64      0.66       400\n",
      "        ENFP       0.70      0.54      0.61       400\n",
      "        ENTJ       0.64      0.63      0.64       400\n",
      "        ENTP       0.72      0.69      0.70       400\n",
      "        ESFJ       0.50      0.61      0.55       400\n",
      "        ESFP       0.57      0.66      0.61       400\n",
      "        ESTJ       0.59      0.52      0.55       400\n",
      "        ESTP       0.65      0.68      0.67       400\n",
      "        INFJ       0.86      0.62      0.72       400\n",
      "        INFP       0.75      0.60      0.67       400\n",
      "        INTJ       0.53      0.57      0.55       400\n",
      "        INTP       0.60      0.67      0.63       400\n",
      "        ISFJ       0.63      0.60      0.61       400\n",
      "        ISFP       0.53      0.61      0.57       400\n",
      "        ISTJ       0.51      0.67      0.58       400\n",
      "        ISTP       0.57      0.54      0.55       400\n",
      "\n",
      "    accuracy                           0.61      6400\n",
      "   macro avg       0.63      0.61      0.62      6400\n",
      "weighted avg       0.63      0.61      0.62      6400\n",
      "\n"
     ]
    }
   ],
   "source": [
    "# Step 6: Train and Evaluate Each Model\n",
    "for name, model in models.items():\n",
    "    print(f\"\\nTraining: {name}\")\n",
    "    model.fit(X_train, y_train)\n",
    "    y_pred = model.predict(X_test)\n",
    "    \n",
    "    acc = accuracy_score(y_test, y_pred)\n",
    "    print(f\"{name} Accuracy: {acc:.4f}\")\n",
    "    \n",
    "    print(f\"{name} Classification Report:\")\n",
    "    print(classification_report(y_test, y_pred, target_names=label_encoder.classes_))"
   ]
  },
  {
   "cell_type": "code",
   "execution_count": 19,
   "id": "75cc5edb",
   "metadata": {},
   "outputs": [
    {
     "data": {
      "text/plain": [
       "['mbti_label_encoder.pkl']"
      ]
     },
     "execution_count": 19,
     "metadata": {},
     "output_type": "execute_result"
    }
   ],
   "source": [
    "import joblib\n",
    "\n",
    "# Save your best model and vectorizer\n",
    "joblib.dump(models[\"XGBoost\"], \"mbti_model_xgboost.pkl\")\n",
    "joblib.dump(vectorizer, \"mbti_vectorizer.pkl\")\n",
    "joblib.dump(label_encoder, \"mbti_label_encoder.pkl\")"
   ]
  }
 ],
 "metadata": {
  "kernelspec": {
   "display_name": "Python 3",
   "language": "python",
   "name": "python3"
  },
  "language_info": {
   "codemirror_mode": {
    "name": "ipython",
    "version": 3
   },
   "file_extension": ".py",
   "mimetype": "text/x-python",
   "name": "python",
   "nbconvert_exporter": "python",
   "pygments_lexer": "ipython3",
   "version": "3.13.3"
  }
 },
 "nbformat": 4,
 "nbformat_minor": 5
}
